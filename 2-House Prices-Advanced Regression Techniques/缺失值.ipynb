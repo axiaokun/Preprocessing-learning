{
 "cells": [
  {
   "cell_type": "markdown",
   "metadata": {},
   "source": [
    "# 缺失值处理\n",
    "### 第一个方法：删除法\n",
    "\n",
    "这里可以分为几种删除对象和不同的前提\n",
    "\n",
    "* 首先是包含缺失值的样本的处理，在样本量比较大，且包含缺失值的样本数占的比例很小时，可以考虑删除包含有缺失值的样本。\n",
    "* 变量删除，当某一个变量的缺失率较大的时候，而且这个变量不会影响到其他变量的时候，可以考虑。实际的情况可能就是由于某些方面也就是这个变量特征比较难以获取到因此才会造成大量缺失值的情况，像一些涉及隐私方面的信息。"
   ]
  },
  {
   "cell_type": "markdown",
   "metadata": {},
   "source": [
    "### 第二种方法：填补法\n",
    "删除数据会造成原始信息的遗失，为了避免这种情况，更多使用的是对缺失值进行填补。而填补的\n",
    "方法也是有多种。适用于不同的情况下。填补的目的都是为了尽可能接近真实值来还原数据。\n",
    "* 单一填补法\n",
    "\n",
    "  使用均值、中位数、众数进行填补。在数值型的数据中，若存在的变量值呈现正态分布，采用均值进行填补；如果变量值呈现偏态，采用中位数填补；如果不属于数值型，可以采用众数填补。\n",
    "* 多重填补法\n",
    "\n",
    "  热卡填补法\n",
    "  \n",
    "  knn填补法\n",
    "  \n",
    "  回归填补法\n",
    "  \n",
    "  基于贝叶斯方法等"
   ]
  },
  {
   "cell_type": "markdown",
   "metadata": {},
   "source": [
    "首先要先从数据中发现到缺失值的具体位置，可以使用pandas中的isnull()方法查找。返回结果是\n",
    "只含有True和False的矩阵。接着只需要做一些处理就可以得出一些具体的缺失值的信息。"
   ]
  },
  {
   "cell_type": "code",
   "execution_count": 1,
   "metadata": {},
   "outputs": [
    {
     "name": "stderr",
     "output_type": "stream",
     "text": [
      "C:\\anaconda\\lib\\site-packages\\statsmodels\\tools\\_testing.py:19: FutureWarning: pandas.util.testing is deprecated. Use the functions in the public API at pandas.testing instead.\n",
      "  import pandas.util.testing as tm\n"
     ]
    },
    {
     "data": {
      "text/plain": [
       "PoolQC          1453\n",
       "MiscFeature     1406\n",
       "Alley           1369\n",
       "Fence           1179\n",
       "FireplaceQu      690\n",
       "LotFrontage      259\n",
       "GarageYrBlt       81\n",
       "GarageType        81\n",
       "GarageFinish      81\n",
       "GarageQual        81\n",
       "GarageCond        81\n",
       "BsmtFinType2      38\n",
       "BsmtExposure      38\n",
       "BsmtFinType1      37\n",
       "BsmtCond          37\n",
       "BsmtQual          37\n",
       "MasVnrArea         8\n",
       "MasVnrType         8\n",
       "Electrical         1\n",
       "dtype: int64"
      ]
     },
     "execution_count": 1,
     "metadata": {},
     "output_type": "execute_result"
    }
   ],
   "source": [
    "# 以房价预测中的数据为例\n",
    "import matplotlib.pyplot as plt\n",
    "import seaborn as sns\n",
    "%matplotlib inline\n",
    "import pandas as pd\n",
    "data_train = pd.read_csv(\"./train.csv\")\n",
    "\n",
    "# 使用sum统计每个变量的缺失值的数量\n",
    "missvalues = data_train.isnull().sum() \n",
    "\n",
    "# 提取缺失值不为零的特征，soort_values()方法进行排序，参数ascending控制排序的方向（True由小到大，False相反）\n",
    "missvalues[missvalues > 0].sort_values(ascending=False)  "
   ]
  },
  {
   "cell_type": "markdown",
   "metadata": {},
   "source": [
    "可以看到一共也就1460个样本中，PoolQC这个变量就缺失了1453个，那么这就很符合变量删除的情况。但是通过查看数据说明可以了解到，缺失值原因是本身房子没有游泳池导致的，因此也就无法判定游泳池的质量。\n",
    "\n",
    "放图\n",
    "\n",
    "<img src = \"游泳池.jpg\" width=300>"
   ]
  },
  {
   "cell_type": "markdown",
   "metadata": {},
   "source": [
    "因此这种应该是归为单独一种情况，我们给它填补为\"None\"。填补使用pd中的fillna方法，参数inplace选择是否直接修改原来样本。"
   ]
  },
  {
   "cell_type": "code",
   "execution_count": 2,
   "metadata": {},
   "outputs": [
    {
     "data": {
      "text/plain": [
       "0"
      ]
     },
     "execution_count": 2,
     "metadata": {},
     "output_type": "execute_result"
    }
   ],
   "source": [
    "data_train[\"PoolQC\"].fillna(\"None\", inplace=True)\n",
    "data_train[\"PoolQC\"].isnull().sum()  # 查看是否替换成功"
   ]
  },
  {
   "cell_type": "markdown",
   "metadata": {},
   "source": [
    "于是按照一样的思路，经过查看，缺失值比例比较大的变量中绝大部分是属于这种情况，而且大多数\n",
    "是离散型数据，许多都可以照这个方法填补上\"None\"。\n",
    "\n",
    "至于填补均值，中位数，众数，还是可以使用fillna方法，只不过将None换成了我们要填补进去的对应的值。以其中的MasVnrArea：砖石饰面面积（平方英尺）为例。通过下面的图像可以了解到这个变量呈现偏态，因此我们可以填补为中位数，如果要均值的话，可以将median()替换成mean()；如果要众数的话可以将换成mode()[0]"
   ]
  },
  {
   "cell_type": "code",
   "execution_count": 3,
   "metadata": {},
   "outputs": [
    {
     "data": {
      "text/plain": [
       "<matplotlib.axes._subplots.AxesSubplot at 0x1c51f530>"
      ]
     },
     "execution_count": 3,
     "metadata": {},
     "output_type": "execute_result"
    },
    {
     "data": {
      "image/png": "[encoded data removed]",
      "text/plain": [
       "<Figure size 432x288 with 1 Axes>"
      ]
     },
     "metadata": {
      "needs_background": "light"
     },
     "output_type": "display_data"
    }
   ],
   "source": [
    "MasVnrArea = data_train['MasVnrArea'].dropna(inplace=False)  # 先去掉缺失值，不然无法作图\n",
    "sns.distplot(MasVnrArea) "
   ]
  },
  {
   "cell_type": "code",
   "execution_count": 4,
   "metadata": {},
   "outputs": [
    {
     "data": {
      "text/plain": [
       "0"
      ]
     },
     "execution_count": 4,
     "metadata": {},
     "output_type": "execute_result"
    }
   ],
   "source": [
    "data_train[\"MasVnrArea\"].fillna(data_train[\"MasVnrArea\"].median(), inplace=True)  # 填补中位数\n",
    "data_train[\"MasVnrArea\"].isnull().sum()"
   ]
  },
  {
   "cell_type": "markdown",
   "metadata": {},
   "source": [
    "LotFrontage地块临街：连接到地产的街道的直线英尺\n",
    "\n",
    "Neighborhood街道位置：埃姆斯市范围内的实际位置\n",
    "\n",
    "LotArea地块面积：地块面积（平方英尺）\n",
    "\n",
    "对于博客中对于变量LotFrontage缺失值的处理方法，看上去感觉是最近距离填补方法，通过与\n",
    "LotFrontage相关的两个变量Neighborhood、LotArea分组来决定最近的样本，因此每一组中的样本\n",
    "数量不一定相同。就是这个街道所在位置和它的地块面积来估计同一个街道范围的地块临街的缺失值\n",
    "这样子解释就有点道理。\n",
    "\n",
    "当然这里还用到了一些方法，例如groupby可以将数据依据选取的变量分组进行组内运算\n",
    "\n",
    "还有pd.qcut方法将连续型数据切割成指定的份数\n",
    "\n",
    "Dataframe.transform和lambda的结合运用，不过下面代码中lambda中的求中位数还是依据groupby\n",
    "划分好后小组进行组内运算的，因此对于替换缺失值是依据与其所在小组内的中位数进行填补。\n",
    "还有为什么要替换两次缺失值，因为依据两个变量进行分组会导致有些组没有相对应的值或者是有这个值但是这个值是缺失值，所以也是nan，因此填补进去还是nan。于是后面只依据一个变量进行分组\n",
    "当然这些只是我自己的想法。"
   ]
  },
  {
   "cell_type": "code",
   "execution_count": 5,
   "metadata": {},
   "outputs": [
    {
     "data": {
      "text/html": [
       "<div>\n",
       "<style scoped>\n",
       "    .dataframe tbody tr th:only-of-type {\n",
       "        vertical-align: middle;\n",
       "    }\n",
       "\n",
       "    .dataframe tbody tr th {\n",
       "        vertical-align: top;\n",
       "    }\n",
       "\n",
       "    .dataframe thead tr th {\n",
       "        text-align: left;\n",
       "    }\n",
       "\n",
       "    .dataframe thead tr:last-of-type th {\n",
       "        text-align: right;\n",
       "    }\n",
       "</style>\n",
       "<table border=\"1\" class=\"dataframe\">\n",
       "  <thead>\n",
       "    <tr>\n",
       "      <th></th>\n",
       "      <th colspan=\"3\" halign=\"left\">LotFrontage</th>\n",
       "    </tr>\n",
       "    <tr>\n",
       "      <th></th>\n",
       "      <th>mean</th>\n",
       "      <th>median</th>\n",
       "      <th>count</th>\n",
       "    </tr>\n",
       "    <tr>\n",
       "      <th>Neighborhood</th>\n",
       "      <th></th>\n",
       "      <th></th>\n",
       "      <th></th>\n",
       "    </tr>\n",
       "  </thead>\n",
       "  <tbody>\n",
       "    <tr>\n",
       "      <th>Blmngtn</th>\n",
       "      <td>47.142857</td>\n",
       "      <td>43.0</td>\n",
       "      <td>14</td>\n",
       "    </tr>\n",
       "    <tr>\n",
       "      <th>Blueste</th>\n",
       "      <td>24.000000</td>\n",
       "      <td>24.0</td>\n",
       "      <td>2</td>\n",
       "    </tr>\n",
       "    <tr>\n",
       "      <th>BrDale</th>\n",
       "      <td>21.562500</td>\n",
       "      <td>21.0</td>\n",
       "      <td>16</td>\n",
       "    </tr>\n",
       "    <tr>\n",
       "      <th>BrkSide</th>\n",
       "      <td>57.509804</td>\n",
       "      <td>52.0</td>\n",
       "      <td>51</td>\n",
       "    </tr>\n",
       "    <tr>\n",
       "      <th>ClearCr</th>\n",
       "      <td>83.461538</td>\n",
       "      <td>80.0</td>\n",
       "      <td>13</td>\n",
       "    </tr>\n",
       "    <tr>\n",
       "      <th>CollgCr</th>\n",
       "      <td>71.682540</td>\n",
       "      <td>70.0</td>\n",
       "      <td>126</td>\n",
       "    </tr>\n",
       "    <tr>\n",
       "      <th>Crawfor</th>\n",
       "      <td>71.804878</td>\n",
       "      <td>74.0</td>\n",
       "      <td>41</td>\n",
       "    </tr>\n",
       "    <tr>\n",
       "      <th>Edwards</th>\n",
       "      <td>68.217391</td>\n",
       "      <td>65.5</td>\n",
       "      <td>92</td>\n",
       "    </tr>\n",
       "    <tr>\n",
       "      <th>Gilbert</th>\n",
       "      <td>79.877551</td>\n",
       "      <td>65.0</td>\n",
       "      <td>49</td>\n",
       "    </tr>\n",
       "    <tr>\n",
       "      <th>IDOTRR</th>\n",
       "      <td>62.500000</td>\n",
       "      <td>60.0</td>\n",
       "      <td>34</td>\n",
       "    </tr>\n",
       "    <tr>\n",
       "      <th>MeadowV</th>\n",
       "      <td>27.800000</td>\n",
       "      <td>21.0</td>\n",
       "      <td>15</td>\n",
       "    </tr>\n",
       "    <tr>\n",
       "      <th>Mitchel</th>\n",
       "      <td>70.083333</td>\n",
       "      <td>73.0</td>\n",
       "      <td>36</td>\n",
       "    </tr>\n",
       "    <tr>\n",
       "      <th>NAmes</th>\n",
       "      <td>76.462366</td>\n",
       "      <td>73.0</td>\n",
       "      <td>186</td>\n",
       "    </tr>\n",
       "    <tr>\n",
       "      <th>NPkVill</th>\n",
       "      <td>32.285714</td>\n",
       "      <td>24.0</td>\n",
       "      <td>7</td>\n",
       "    </tr>\n",
       "    <tr>\n",
       "      <th>NWAmes</th>\n",
       "      <td>81.288889</td>\n",
       "      <td>80.0</td>\n",
       "      <td>45</td>\n",
       "    </tr>\n",
       "    <tr>\n",
       "      <th>NoRidge</th>\n",
       "      <td>91.878788</td>\n",
       "      <td>91.0</td>\n",
       "      <td>33</td>\n",
       "    </tr>\n",
       "    <tr>\n",
       "      <th>NridgHt</th>\n",
       "      <td>81.881579</td>\n",
       "      <td>88.5</td>\n",
       "      <td>76</td>\n",
       "    </tr>\n",
       "    <tr>\n",
       "      <th>OldTown</th>\n",
       "      <td>62.788991</td>\n",
       "      <td>60.0</td>\n",
       "      <td>109</td>\n",
       "    </tr>\n",
       "    <tr>\n",
       "      <th>SWISU</th>\n",
       "      <td>58.913043</td>\n",
       "      <td>60.0</td>\n",
       "      <td>23</td>\n",
       "    </tr>\n",
       "    <tr>\n",
       "      <th>Sawyer</th>\n",
       "      <td>74.437500</td>\n",
       "      <td>71.0</td>\n",
       "      <td>48</td>\n",
       "    </tr>\n",
       "    <tr>\n",
       "      <th>SawyerW</th>\n",
       "      <td>71.500000</td>\n",
       "      <td>66.5</td>\n",
       "      <td>50</td>\n",
       "    </tr>\n",
       "    <tr>\n",
       "      <th>Somerst</th>\n",
       "      <td>64.666667</td>\n",
       "      <td>73.5</td>\n",
       "      <td>78</td>\n",
       "    </tr>\n",
       "    <tr>\n",
       "      <th>StoneBr</th>\n",
       "      <td>62.700000</td>\n",
       "      <td>61.5</td>\n",
       "      <td>20</td>\n",
       "    </tr>\n",
       "    <tr>\n",
       "      <th>Timber</th>\n",
       "      <td>80.133333</td>\n",
       "      <td>85.0</td>\n",
       "      <td>30</td>\n",
       "    </tr>\n",
       "    <tr>\n",
       "      <th>Veenker</th>\n",
       "      <td>59.714286</td>\n",
       "      <td>68.0</td>\n",
       "      <td>7</td>\n",
       "    </tr>\n",
       "  </tbody>\n",
       "</table>\n",
       "</div>"
      ],
      "text/plain": [
       "             LotFrontage             \n",
       "                    mean median count\n",
       "Neighborhood                         \n",
       "Blmngtn        47.142857   43.0    14\n",
       "Blueste        24.000000   24.0     2\n",
       "BrDale         21.562500   21.0    16\n",
       "BrkSide        57.509804   52.0    51\n",
       "ClearCr        83.461538   80.0    13\n",
       "CollgCr        71.682540   70.0   126\n",
       "Crawfor        71.804878   74.0    41\n",
       "Edwards        68.217391   65.5    92\n",
       "Gilbert        79.877551   65.0    49\n",
       "IDOTRR         62.500000   60.0    34\n",
       "MeadowV        27.800000   21.0    15\n",
       "Mitchel        70.083333   73.0    36\n",
       "NAmes          76.462366   73.0   186\n",
       "NPkVill        32.285714   24.0     7\n",
       "NWAmes         81.288889   80.0    45\n",
       "NoRidge        91.878788   91.0    33\n",
       "NridgHt        81.881579   88.5    76\n",
       "OldTown        62.788991   60.0   109\n",
       "SWISU          58.913043   60.0    23\n",
       "Sawyer         74.437500   71.0    48\n",
       "SawyerW        71.500000   66.5    50\n",
       "Somerst        64.666667   73.5    78\n",
       "StoneBr        62.700000   61.5    20\n",
       "Timber         80.133333   85.0    30\n",
       "Veenker        59.714286   68.0     7"
      ]
     },
     "execution_count": 5,
     "metadata": {},
     "output_type": "execute_result"
    }
   ],
   "source": [
    "data_train.groupby(['Neighborhood'])[['LotFrontage']].agg(['mean','median','count'])"
   ]
  },
  {
   "cell_type": "code",
   "execution_count": 6,
   "metadata": {},
   "outputs": [],
   "source": [
    "data_train[\"lotareaqcut\"] = pd.qcut(data_train[\"LotArea\"], 10)"
   ]
  },
  {
   "cell_type": "code",
   "execution_count": 7,
   "metadata": {},
   "outputs": [],
   "source": [
    "data_train['LotFrontage']=data_train.groupby(['lotareaqcut','Neighborhood'])['LotFrontage'].transform(lambda x: x.fillna(x.median()))\n",
    "data_train['LotFrontage']=data_train.groupby(['lotareaqcut'])['LotFrontage'].transform(lambda x: x.fillna(x.median()))"
   ]
  }
 ],
 "metadata": {
  "kernelspec": {
   "display_name": "Python 3",
   "language": "python",
   "name": "python3"
  },
  "language_info": {
   "codemirror_mode": {
    "name": "ipython",
    "version": 3
   },
   "file_extension": ".py",
   "mimetype": "text/x-python",
   "name": "python",
   "nbconvert_exporter": "python",
   "pygments_lexer": "ipython3",
   "version": "3.7.3"
  }
 },
 "nbformat": 4,
 "nbformat_minor": 2
}
